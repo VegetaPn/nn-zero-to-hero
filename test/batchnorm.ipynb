{
 "cells": [
  {
   "cell_type": "code",
   "id": "initial_id",
   "metadata": {
    "collapsed": true,
    "ExecuteTime": {
     "end_time": "2024-07-13T05:43:42.672518Z",
     "start_time": "2024-07-13T05:43:41.685543Z"
    }
   },
   "source": [
    "import torch\n",
    "import torch.nn.functional as F\n",
    "import matplotlib.pyplot as plt # for making figures\n",
    "%matplotlib inline"
   ],
   "outputs": [],
   "execution_count": 1
  },
  {
   "metadata": {
    "ExecuteTime": {
     "end_time": "2024-07-27T07:18:42.249605Z",
     "start_time": "2024-07-27T07:18:42.215325Z"
    }
   },
   "cell_type": "code",
   "source": [
    "def read_data():\n",
    "    with open('names.txt') as f:\n",
    "        words = f.read().splitlines()\n",
    "        words_len = len(words)\n",
    "        words_train_len = int(words_len * 0.8)\n",
    "        words_dev_len = int(words_len * 0.1)\n",
    "        words_train = words[:words_train_len]\n",
    "        words_dev = words[words_train_len:words_train_len+words_dev_len]\n",
    "        words_test = words[words_train_len+words_dev_len:]\n",
    "        return words, words_train, words_dev, words_test"
   ],
   "id": "175df2730cd91121",
   "outputs": [],
   "execution_count": 60
  },
  {
   "metadata": {
    "ExecuteTime": {
     "end_time": "2024-07-27T07:18:43.561174Z",
     "start_time": "2024-07-27T07:18:43.531444Z"
    }
   },
   "cell_type": "code",
   "source": "words, words_train, words_dev, words_test = read_data()",
   "id": "b8677bc69d02ac71",
   "outputs": [],
   "execution_count": 61
  },
  {
   "metadata": {
    "ExecuteTime": {
     "end_time": "2024-07-27T07:18:48.738104Z",
     "start_time": "2024-07-27T07:18:48.717647Z"
    }
   },
   "cell_type": "code",
   "source": "words[:8]",
   "id": "89939ff1bab60f22",
   "outputs": [
    {
     "data": {
      "text/plain": [
       "['emma', 'olivia', 'ava', 'isabella', 'sophia', 'charlotte', 'mia', 'amelia']"
      ]
     },
     "execution_count": 62,
     "metadata": {},
     "output_type": "execute_result"
    }
   ],
   "execution_count": 62
  },
  {
   "metadata": {
    "ExecuteTime": {
     "end_time": "2024-07-27T07:25:07.756148Z",
     "start_time": "2024-07-27T07:25:07.735754Z"
    }
   },
   "cell_type": "code",
   "source": [
    "chs = sorted(list(set(''.join(words))))\n",
    "stoi = {v : k+1 for k, v in enumerate(chs)}\n",
    "stoi['.'] = 0\n",
    "itos = {v: k for k, v in stoi.items()}\n",
    "print(itos)\n",
    "print(len(itos))"
   ],
   "id": "33154afdc29aac4e",
   "outputs": [
    {
     "name": "stdout",
     "output_type": "stream",
     "text": [
      "{1: 'a', 2: 'b', 3: 'c', 4: 'd', 5: 'e', 6: 'f', 7: 'g', 8: 'h', 9: 'i', 10: 'j', 11: 'k', 12: 'l', 13: 'm', 14: 'n', 15: 'o', 16: 'p', 17: 'q', 18: 'r', 19: 's', 20: 't', 21: 'u', 22: 'v', 23: 'w', 24: 'x', 25: 'y', 26: 'z', 0: '.'}\n",
      "27\n"
     ]
    }
   ],
   "execution_count": 64
  },
  {
   "metadata": {
    "ExecuteTime": {
     "end_time": "2024-07-27T07:26:03.365917Z",
     "start_time": "2024-07-27T07:26:03.348367Z"
    }
   },
   "cell_type": "code",
   "source": [
    "def prepare_single_dataset(words):\n",
    "    X = []\n",
    "    Y = []\n",
    "    for word in words:\n",
    "        context = [0, 0, 0]\n",
    "        for ch1 in word + '.':\n",
    "            X.append(context)\n",
    "            i = stoi[ch1]\n",
    "            Y.append(i)\n",
    "            context = context[1:] + [i]\n",
    "    return torch.tensor(X), torch.tensor(Y)"
   ],
   "id": "804d41ab221e18b4",
   "outputs": [],
   "execution_count": 65
  },
  {
   "metadata": {
    "ExecuteTime": {
     "end_time": "2024-07-27T07:26:03.780214Z",
     "start_time": "2024-07-27T07:26:03.775570Z"
    }
   },
   "cell_type": "code",
   "source": [
    "def prepare_dataset():\n",
    "    Xtr, Ytr = prepare_single_dataset(words_train)\n",
    "    Xdev, Ydev = prepare_single_dataset(words_dev)\n",
    "    Xtest, Ytest = prepare_single_dataset(words_test)\n",
    "    return Xtr, Ytr, Xdev, Ydev, Xtest, Ytest"
   ],
   "id": "6392dd2ca90d0c27",
   "outputs": [],
   "execution_count": 66
  },
  {
   "metadata": {
    "ExecuteTime": {
     "end_time": "2024-07-27T07:27:35.691054Z",
     "start_time": "2024-07-27T07:27:35.412685Z"
    }
   },
   "cell_type": "code",
   "source": [
    "Xtr, Ytr, Xdev, Ydev, Xtest, Ytest = prepare_dataset()\n",
    "print(Xtr.shape)\n",
    "print(Ytr.shape)\n",
    "print(Xdev.shape)\n",
    "print(Ydev.shape)\n",
    "print(Xtest.shape)\n",
    "print(Ytest.shape)"
   ],
   "id": "520797197d3580ac",
   "outputs": [
    {
     "name": "stdout",
     "output_type": "stream",
     "text": [
      "torch.Size([182778, 3])\n",
      "torch.Size([182778])\n",
      "torch.Size([22633, 3])\n",
      "torch.Size([22633])\n",
      "torch.Size([22735, 3])\n",
      "torch.Size([22735])\n"
     ]
    }
   ],
   "execution_count": 68
  },
  {
   "metadata": {
    "ExecuteTime": {
     "end_time": "2024-07-28T08:32:38.073701Z",
     "start_time": "2024-07-28T08:32:38.065416Z"
    }
   },
   "cell_type": "code",
   "source": [
    "vocab_size = 27\n",
    "block_size = 3\n",
    "n_embd = 10\n",
    "n_hidden = 200\n",
    "\n",
    "g = torch.Generator().manual_seed(2147483647)\n",
    "C = torch.randn((vocab_size, n_embd), generator=g)\n",
    "W1 = torch.randn((n_embd * block_size, n_hidden), generator=g) * (5/3)/((n_embd * block_size)**0.5)\n",
    "# b1 = torch.randn(n_hidden, generator=g) * 0.01\n",
    "W2 = torch.randn((n_hidden, vocab_size), generator=g) * 0.01\n",
    "b2 = torch.randn(vocab_size, generator=g) * 0\n",
    "\n",
    "bngain = torch.ones((1, n_hidden))\n",
    "bnbias = torch.zeros((1, n_hidden))\n",
    "bnmean_running = torch.zeros((1, n_hidden))\n",
    "bnstd_running = torch.ones((1, n_hidden))\n",
    "\n",
    "params = [C, W1, W2, b2, bngain, bnbias]\n",
    "print(sum(p.nelement() for p in params))\n",
    "\n",
    "for p in params:\n",
    "    p.requires_grad = True"
   ],
   "id": "4d05d86301c019cf",
   "outputs": [
    {
     "name": "stdout",
     "output_type": "stream",
     "text": [
      "12097\n"
     ]
    }
   ],
   "execution_count": 138
  },
  {
   "metadata": {
    "ExecuteTime": {
     "end_time": "2024-07-28T08:35:27.401333Z",
     "start_time": "2024-07-28T08:33:54.139719Z"
    }
   },
   "cell_type": "code",
   "source": [
    "max_steps = 200000\n",
    "batch_size = 32\n",
    "lossi = []\n",
    "\n",
    "for i in range(max_steps):\n",
    "    # minibatch construct\n",
    "    ix = torch.randint(0, Xtr.shape[0], (batch_size,), generator=g)\n",
    "    Xb, Yb = Xtr[ix], Ytr[ix]\n",
    "    \n",
    "    # forward pass\n",
    "    emb = C[Xb]\n",
    "    embcat = emb.view(emb.shape[0], -1)\n",
    "    # Linear layer\n",
    "    hpreact = embcat @ W1 #+ b1 # hidden layer pre-activation\n",
    "    # BatchNorm layer\n",
    "    bnmeani = hpreact.mean(0, keepdim=True)\n",
    "    bnstdi = hpreact.std(0, keepdim=True)\n",
    "    hpreact = bngain * (hpreact - bnmeani) / bnstdi + bnbias\n",
    "    \n",
    "    with torch.no_grad():\n",
    "        bnmean_running = 0.999 * bnmean_running + 0.001 * bnmeani\n",
    "        bnstd_running = 0.999 * bnstd_running + 0.001 * bnstdi\n",
    "    # ---------------------------------------------\n",
    "    # Non-linearity\n",
    "    h = torch.tanh(hpreact) # hidden layer\n",
    "    logits = h @ W2 + b2 # output layer\n",
    "    loss = F.cross_entropy(logits, Yb)\n",
    "    \n",
    "    # backward pass\n",
    "    for p in params:\n",
    "        p.grad = None\n",
    "    loss.backward()\n",
    "    \n",
    "    # update\n",
    "    lr = 0.1 if 1 < 100000 else 0.01\n",
    "    for p in params:\n",
    "        p.data += -lr * p.grad\n",
    "    \n",
    "    # stats\n",
    "    if i % 10000 == 0:\n",
    "        print(f'{i:7d}/{max_steps:7d}: {loss.item():.4f}')\n",
    "    lossi.append(loss.log10().item())\n",
    "    \n",
    "    # break"
   ],
   "id": "b9b750cac9834e4",
   "outputs": [
    {
     "name": "stdout",
     "output_type": "stream",
     "text": [
      "      0/ 200000: 3.3022\n",
      "  10000/ 200000: 2.3840\n",
      "  20000/ 200000: 2.2264\n",
      "  30000/ 200000: 2.2678\n",
      "  40000/ 200000: 1.9528\n",
      "  50000/ 200000: 2.1880\n",
      "  60000/ 200000: 2.2642\n",
      "  70000/ 200000: 2.0547\n",
      "  80000/ 200000: 2.0878\n",
      "  90000/ 200000: 1.8162\n",
      " 100000/ 200000: 1.7928\n",
      " 110000/ 200000: 1.9512\n",
      " 120000/ 200000: 1.8388\n",
      " 130000/ 200000: 2.1854\n",
      " 140000/ 200000: 2.0722\n",
      " 150000/ 200000: 2.2639\n",
      " 160000/ 200000: 2.3293\n",
      " 170000/ 200000: 2.1121\n",
      " 180000/ 200000: 2.4292\n",
      " 190000/ 200000: 2.0686\n"
     ]
    }
   ],
   "execution_count": 139
  },
  {
   "metadata": {
    "ExecuteTime": {
     "end_time": "2024-07-28T07:47:31.385366Z",
     "start_time": "2024-07-28T07:47:31.264231Z"
    }
   },
   "cell_type": "code",
   "source": "plt.hist(h.view(-1).tolist(), 50)",
   "id": "d4badfeeb956f685",
   "outputs": [
    {
     "data": {
      "text/plain": [
       "(array([1265.,  239.,  145.,  115.,   95.,   78.,   69.,   73.,   70.,\n",
       "          56.,   53.,   46.,   52.,   52.,   34.,   39.,   57.,   50.,\n",
       "          47.,   87.,   85.,   71.,   85.,   99.,   97.,  101.,  108.,\n",
       "          85.,   88.,   77.,   78.,   62.,   52.,   51.,   44.,   45.,\n",
       "          52.,   41.,   53.,   51.,   52.,   73.,   67.,   63.,   78.,\n",
       "         107.,  119.,  184.,  227., 1283.]),\n",
       " array([-1.  , -0.96, -0.92, -0.88, -0.84, -0.8 , -0.76, -0.72, -0.68,\n",
       "        -0.64, -0.6 , -0.56, -0.52, -0.48, -0.44, -0.4 , -0.36, -0.32,\n",
       "        -0.28, -0.24, -0.2 , -0.16, -0.12, -0.08, -0.04,  0.  ,  0.04,\n",
       "         0.08,  0.12,  0.16,  0.2 ,  0.24,  0.28,  0.32,  0.36,  0.4 ,\n",
       "         0.44,  0.48,  0.52,  0.56,  0.6 ,  0.64,  0.68,  0.72,  0.76,\n",
       "         0.8 ,  0.84,  0.88,  0.92,  0.96,  1.  ]),\n",
       " <BarContainer object of 50 artists>)"
      ]
     },
     "execution_count": 114,
     "metadata": {},
     "output_type": "execute_result"
    },
    {
     "data": {
      "text/plain": [
       "<Figure size 640x480 with 1 Axes>"
      ],
      "image/png": "[encoded data removed]"
     },
     "metadata": {},
     "output_type": "display_data"
    }
   ],
   "execution_count": 114
  },
  {
   "metadata": {
    "ExecuteTime": {
     "end_time": "2024-07-28T07:28:33.561860Z",
     "start_time": "2024-07-28T07:28:33.483211Z"
    }
   },
   "cell_type": "code",
   "source": "plt.hist(hpreact.view(-1).tolist(), 50)",
   "id": "f7430a2a53bde613",
   "outputs": [
    {
     "data": {
      "text/plain": [
       "(array([  1.,   4.,   1.,   2.,   4.,   6.,  12.,  10.,  17.,  13.,  49.,\n",
       "         58.,  69., 110., 127., 165., 203., 264., 273., 303., 369., 328.,\n",
       "        419., 380., 439., 389., 358., 330., 283., 309., 279., 192., 148.,\n",
       "        136., 101.,  89.,  55.,  30.,  22.,  18.,   7.,  10.,   4.,   3.,\n",
       "          8.,   0.,   0.,   1.,   0.,   2.]),\n",
       " array([-3.81970549, -3.65803943, -3.49637337, -3.33470731, -3.17304125,\n",
       "        -3.01137519, -2.84970913, -2.68804307, -2.52637701, -2.36471095,\n",
       "        -2.20304489, -2.04137883, -1.87971277, -1.71804671, -1.55638065,\n",
       "        -1.39471459, -1.23304853, -1.07138247, -0.90971642, -0.74805036,\n",
       "        -0.5863843 , -0.42471824, -0.26305218, -0.10138612,  0.06027994,\n",
       "         0.221946  ,  0.38361206,  0.54527812,  0.70694418,  0.86861024,\n",
       "         1.0302763 ,  1.19194236,  1.35360842,  1.51527448,  1.67694054,\n",
       "         1.8386066 ,  2.00027266,  2.16193871,  2.32360477,  2.48527083,\n",
       "         2.64693689,  2.80860295,  2.97026901,  3.13193507,  3.29360113,\n",
       "         3.45526719,  3.61693325,  3.77859931,  3.94026537,  4.10193143,\n",
       "         4.26359749]),\n",
       " <BarContainer object of 50 artists>)"
      ]
     },
     "execution_count": 106,
     "metadata": {},
     "output_type": "execute_result"
    },
    {
     "data": {
      "text/plain": [
       "<Figure size 640x480 with 1 Axes>"
      ],
      "image/png": "[encoded data removed]"
     },
     "metadata": {},
     "output_type": "display_data"
    }
   ],
   "execution_count": 106
  },
  {
   "metadata": {
    "ExecuteTime": {
     "end_time": "2024-07-28T07:28:35.473369Z",
     "start_time": "2024-07-28T07:28:35.384266Z"
    }
   },
   "cell_type": "code",
   "source": [
    "plt.figure(figsize=(20, 10))\n",
    "plt.imshow(h.abs() > 0.99, cmap='gray', interpolation='nearest')"
   ],
   "id": "17896b506162e5a9",
   "outputs": [
    {
     "data": {
      "text/plain": [
       "<matplotlib.image.AxesImage at 0x1306539d0>"
      ]
     },
     "execution_count": 107,
     "metadata": {},
     "output_type": "execute_result"
    },
    {
     "data": {
      "text/plain": [
       "<Figure size 2000x1000 with 1 Axes>"
      ],
      "image/png": "[encoded data removed]"
     },
     "metadata": {},
     "output_type": "display_data"
    }
   ],
   "execution_count": 107
  },
  {
   "metadata": {
    "ExecuteTime": {
     "end_time": "2024-07-28T08:49:37.716117Z",
     "start_time": "2024-07-28T08:49:37.410099Z"
    }
   },
   "cell_type": "code",
   "source": "plt.plot(lossi)",
   "id": "898b499d9d188f59",
   "outputs": [
    {
     "data": {
      "text/plain": [
       "[<matplotlib.lines.Line2D at 0x132897f50>]"
      ]
     },
     "execution_count": 142,
     "metadata": {},
     "output_type": "execute_result"
    },
    {
     "data": {
      "text/plain": [
       "<Figure size 640x480 with 1 Axes>"
      ],
      "image/png": "[encoded data removed]"
     },
     "metadata": {},
     "output_type": "display_data"
    }
   ],
   "execution_count": 142
  },
  {
   "metadata": {
    "ExecuteTime": {
     "end_time": "2024-07-28T08:31:37.239856Z",
     "start_time": "2024-07-28T08:31:37.048779Z"
    }
   },
   "cell_type": "code",
   "source": [
    "with torch.no_grad():\n",
    "    emb = C[Xtr]\n",
    "    embcat = emb.view(emb.shape[0], -1)\n",
    "    hpreact = embcat @ W1 #+ b1\n",
    "    # measure the mean/std over the entire training set\n",
    "    bnmean = hpreact.mean(0, keepdim=True)\n",
    "    bnstd = hpreact.std(0, keepdim=True)"
   ],
   "id": "2784de5d9786097f",
   "outputs": [],
   "execution_count": 134
  },
  {
   "metadata": {
    "ExecuteTime": {
     "end_time": "2024-07-28T08:49:54.155653Z",
     "start_time": "2024-07-28T08:49:53.851627Z"
    }
   },
   "cell_type": "code",
   "source": [
    "@torch.no_grad\n",
    "def split_loss(split):\n",
    "    x, y = {\n",
    "        'train': (Xtr, Ytr),\n",
    "        'val': (Xdev, Ydev),\n",
    "        'test': (Xtest, Ytest),\n",
    "    }[split]\n",
    "    emb = C[x]\n",
    "    embcat = emb.view(emb.shape[0], -1)\n",
    "    hpreact = embcat @ W1 #+ b1\n",
    "    # hpreact = bngain * (hpreact - hpreact.mean(0, keepdim=True)) / hpreact.std(0, keepdim=True) + bnbias\n",
    "    hpreact = bngain * (hpreact - bnmean_running) / bnstd_running + bnbias\n",
    "    h = torch.tanh(hpreact)\n",
    "    logits = h @ W2 + b2\n",
    "    loss = F.cross_entropy(logits, y)\n",
    "    print(split, loss.item())\n",
    "\n",
    "split_loss('train')\n",
    "split_loss('val')\n"
   ],
   "id": "d0428385eedc25e3",
   "outputs": [
    {
     "name": "stdout",
     "output_type": "stream",
     "text": [
      "train 2.0837762355804443\n",
      "val 2.38698148727417\n"
     ]
    }
   ],
   "execution_count": 143
  },
  {
   "metadata": {
    "ExecuteTime": {
     "end_time": "2024-07-28T08:36:23.233774Z",
     "start_time": "2024-07-28T08:36:23.213748Z"
    }
   },
   "cell_type": "code",
   "source": [
    "g = torch.Generator().manual_seed(2147483647 + 10)\n",
    "\n",
    "for _ in range(20):\n",
    "    out = []\n",
    "    context = [0] * block_size\n",
    "    while True:\n",
    "        emb = C[torch.tensor(context)] # (1, block_size, n_embd)\n",
    "        h = torch.tanh(emb.view(1, -1) @ W1) #+ b1)\n",
    "        logits = h @ W2 + b2\n",
    "        probs = F.softmax(logits, dim=1)\n",
    "        # sample\n",
    "        ix = torch.multinomial(probs, num_samples=1, generator=g).item()\n",
    "        context = context[1:] + [ix]\n",
    "        out.append(ix)\n",
    "        if ix == 0:\n",
    "            break\n",
    "        \n",
    "    print(''.join(itos[i] for i in out))"
   ],
   "id": "3ef3953115b6348",
   "outputs": [
    {
     "name": "stdout",
     "output_type": "stream",
     "text": [
      "khal.\n",
      "ffaturlqeluh.\n",
      "malghthty.\n",
      "salfysneffrhnnadaphrrighthn.\n",
      "xyleannishnmadhvikanaggyah.\n",
      "maddis.\n",
      "quintha.\n",
      "luvaanviubstoruell.\n",
      "kharissadhxenzirramous.\n",
      "faviangton.\n",
      "jasflyshaaghbvathlsyah.\n",
      "mabostzelluslq.\n",
      "favashrenlexfatdutum.\n",
      "zoessa.\n",
      "bryksrynnlamoklysnraverterryoqselbyx.\n",
      "daytz.\n",
      "quunlysbrichrumaygsstyll.\n",
      "khmirlyannnysantriegs.\n",
      "sughnnzamayeff.\n",
      "khaddyah.\n"
     ]
    }
   ],
   "execution_count": 141
  },
  {
   "metadata": {},
   "cell_type": "code",
   "outputs": [],
   "execution_count": null,
   "source": "",
   "id": "735a76f8f4b7b056"
  }
 ],
 "metadata": {
  "kernelspec": {
   "display_name": "Python 3",
   "language": "python",
   "name": "python3"
  },
  "language_info": {
   "codemirror_mode": {
    "name": "ipython",
    "version": 2
   },
   "file_extension": ".py",
   "mimetype": "text/x-python",
   "name": "python",
   "nbconvert_exporter": "python",
   "pygments_lexer": "ipython2",
   "version": "2.7.6"
  }
 },
 "nbformat": 4,
 "nbformat_minor": 5
}
