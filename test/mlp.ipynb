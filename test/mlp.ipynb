{
 "cells": [
  {
   "metadata": {
    "ExecuteTime": {
     "end_time": "2024-06-28T11:44:41.840852Z",
     "start_time": "2024-06-28T11:44:41.760692Z"
    }
   },
   "cell_type": "code",
   "source": [
    "import torch\n",
    "import torch.nn.functional as F\n",
    "import matplotlib.pyplot as plt # for making figures\n",
    "%matplotlib inline"
   ],
   "id": "f45a81ab8961c836",
   "outputs": [],
   "execution_count": 74
  },
  {
   "metadata": {
    "ExecuteTime": {
     "end_time": "2024-06-28T11:44:42.216563Z",
     "start_time": "2024-06-28T11:44:42.189502Z"
    }
   },
   "cell_type": "code",
   "source": [
    "with open('names.txt', 'r') as f:\n",
    "    words = f.read().splitlines()"
   ],
   "id": "57433185327aae9",
   "outputs": [],
   "execution_count": 75
  },
  {
   "metadata": {
    "ExecuteTime": {
     "end_time": "2024-06-28T11:44:42.813232Z",
     "start_time": "2024-06-28T11:44:42.796498Z"
    }
   },
   "cell_type": "code",
   "source": [
    "chars = sorted(list(set(''.join(words))))\n",
    "stoi = {s:i+1 for i,s in enumerate(chars)}\n",
    "stoi['.'] = 0 \n",
    "itos = {i:s for s,i in stoi.items()}"
   ],
   "id": "9eac1ea96b6abd9f",
   "outputs": [],
   "execution_count": 76
  },
  {
   "metadata": {
    "ExecuteTime": {
     "end_time": "2024-06-28T12:09:01.182673Z",
     "start_time": "2024-06-28T12:09:01.174847Z"
    }
   },
   "cell_type": "code",
   "source": [
    "def build_inputs_outputs(words):\n",
    "    X = []\n",
    "    Y = []\n",
    "    for word in words:\n",
    "        context = [0, 0, 0]\n",
    "        for ch in word + '.':\n",
    "            X.append(context)\n",
    "            Y.append(stoi[ch])\n",
    "            context = context[1:]\n",
    "            context.append(stoi[ch])\n",
    "\n",
    "    X = torch.tensor(X)\n",
    "    Y = torch.tensor(Y)\n",
    "    return X, Y"
   ],
   "id": "21f54a0c03b53bd7",
   "outputs": [],
   "execution_count": 104
  },
  {
   "metadata": {
    "ExecuteTime": {
     "end_time": "2024-06-28T12:09:03.730001Z",
     "start_time": "2024-06-28T12:09:02.044914Z"
    }
   },
   "cell_type": "code",
   "source": [
    "l = len(words)\n",
    "train_size = int(l*0.8)\n",
    "dev_size = int(l*0.1)\n",
    "test_size = l - train_size - dev_size\n",
    "words_train = words[:train_size]\n",
    "words_dev = words[train_size:train_size + dev_size]\n",
    "words_test = words[train_size + dev_size:]\n",
    "\n",
    "X, Y = build_inputs_outputs(words_train)\n",
    "X.shape, Y.shape, dev_size, test_size, len(words), len(words_train) + len(words_dev) + len(words_test)"
   ],
   "id": "42d7d665950cf110",
   "outputs": [
    {
     "data": {
      "text/plain": [
       "(torch.Size([182778, 3]), torch.Size([182778]), 3203, 3204, 32033, 32033)"
      ]
     },
     "execution_count": 105,
     "metadata": {},
     "output_type": "execute_result"
    }
   ],
   "execution_count": 105
  },
  {
   "metadata": {
    "ExecuteTime": {
     "end_time": "2024-06-28T12:09:03.743888Z",
     "start_time": "2024-06-28T12:09:03.734452Z"
    }
   },
   "cell_type": "code",
   "source": [
    "g = torch.Generator().manual_seed(123123123)\n",
    "C = torch.randn((27, 10), generator=g)\n",
    "W1 = torch.randn((30, 200), generator=g)\n",
    "b1 = torch.randn((200,), generator=g)\n",
    "W2 = torch.randn((200, 27), generator=g)\n",
    "b2 = torch.randn((27,), generator=g)\n",
    "\n",
    "params = [C, W1, b1, W2, b2]\n",
    "for p in params:\n",
    "    p.requires_grad = True\n",
    "    p.grad = None"
   ],
   "id": "ea08e129bc5367be",
   "outputs": [],
   "execution_count": 106
  },
  {
   "metadata": {
    "ExecuteTime": {
     "end_time": "2024-06-28T12:09:04.801294Z",
     "start_time": "2024-06-28T12:09:04.796921Z"
    }
   },
   "cell_type": "code",
   "source": [
    "def cal_loss(batch, idxs, targets):\n",
    "    emb = C[batch]\n",
    "    h = torch.tanh(emb.view(-1, 30) @ W1 + b1)\n",
    "    logits = h @ W2 + b2\n",
    "    counts = logits.exp()\n",
    "    probs = counts / counts.sum(dim=1, keepdim=True)\n",
    "    logprobs = probs.log()\n",
    "    return -logprobs[torch.arange(batch.shape[0]), targets[idxs]].mean()"
   ],
   "id": "709d82028dc9e94f",
   "outputs": [],
   "execution_count": 107
  },
  {
   "metadata": {
    "ExecuteTime": {
     "end_time": "2024-06-28T12:10:40.943727Z",
     "start_time": "2024-06-28T12:09:05.830372Z"
    }
   },
   "cell_type": "code",
   "source": [
    "mini_batch_size = 32\n",
    "lossi = []\n",
    "for i in range(200000):\n",
    "    idxs = torch.randint(0, X.shape[0], (mini_batch_size,))\n",
    "    mini_batch = X[idxs]\n",
    "    loss = cal_loss(mini_batch, idxs, Y)\n",
    "    \n",
    "    loss.backward()\n",
    "    \n",
    "    lr = 0.1 if i < 100000 else 0.01\n",
    "    for p in params:\n",
    "        p.data += -lr * p.grad\n",
    "        p.grad = None\n",
    "    \n",
    "    lossi.append(loss.item())\n",
    "print(loss.item())\n",
    "# loss_1 = F.cross_entropy(logits, target=Y)\n",
    "# loss_1"
   ],
   "id": "449a52b3fbf981f2",
   "outputs": [
    {
     "name": "stdout",
     "output_type": "stream",
     "text": [
      "2.3356151580810547\n"
     ]
    }
   ],
   "execution_count": 108
  },
  {
   "metadata": {
    "ExecuteTime": {
     "end_time": "2024-06-28T12:10:46.998459Z",
     "start_time": "2024-06-28T12:10:46.992647Z"
    }
   },
   "cell_type": "code",
   "source": "lossi[-30:]",
   "id": "ef21fb38e4d773d8",
   "outputs": [
    {
     "data": {
      "text/plain": [
       "[2.2342886924743652,\n",
       " 2.190931797027588,\n",
       " 1.850029706954956,\n",
       " 1.8733488321304321,\n",
       " 2.181765079498291,\n",
       " 2.0659124851226807,\n",
       " 2.1590240001678467,\n",
       " 2.2473349571228027,\n",
       " 2.301719903945923,\n",
       " 2.129366874694824,\n",
       " 1.9405767917633057,\n",
       " 2.0974926948547363,\n",
       " 1.9919242858886719,\n",
       " 2.5569915771484375,\n",
       " 2.280457019805908,\n",
       " 2.012474775314331,\n",
       " 2.4890623092651367,\n",
       " 2.0091145038604736,\n",
       " 2.0129318237304688,\n",
       " 2.1470601558685303,\n",
       " 2.163213014602661,\n",
       " 1.9547584056854248,\n",
       " 1.8767426013946533,\n",
       " 1.8759874105453491,\n",
       " 2.15773344039917,\n",
       " 1.8732116222381592,\n",
       " 2.0185112953186035,\n",
       " 2.010164976119995,\n",
       " 1.7765566110610962,\n",
       " 2.3356151580810547]"
      ]
     },
     "execution_count": 109,
     "metadata": {},
     "output_type": "execute_result"
    }
   ],
   "execution_count": 109
  },
  {
   "metadata": {
    "ExecuteTime": {
     "end_time": "2024-06-28T12:10:53.899508Z",
     "start_time": "2024-06-28T12:10:53.150257Z"
    }
   },
   "cell_type": "code",
   "source": "plt.plot([i for i in range(len(lossi))], lossi)",
   "id": "9f0d814b42136040",
   "outputs": [
    {
     "data": {
      "text/plain": [
       "[<matplotlib.lines.Line2D at 0x121d62b20>]"
      ]
     },
     "execution_count": 110,
     "metadata": {},
     "output_type": "execute_result"
    },
    {
     "data": {
      "text/plain": [
       "<Figure size 640x480 with 1 Axes>"
      ],
      "image/png": "[encoded data removed]"
     },
     "metadata": {},
     "output_type": "display_data"
    }
   ],
   "execution_count": 110
  },
  {
   "metadata": {
    "ExecuteTime": {
     "end_time": "2024-06-28T12:10:56.985495Z",
     "start_time": "2024-06-28T12:10:56.924684Z"
    }
   },
   "cell_type": "code",
   "source": [
    "X_DEV, Y_DEV = build_inputs_outputs(words_dev)\n",
    "X_DEV.shape, Y_DEV.shape"
   ],
   "id": "522ca8c980ca8982",
   "outputs": [
    {
     "data": {
      "text/plain": [
       "(torch.Size([22633, 3]), torch.Size([22633]))"
      ]
     },
     "execution_count": 111,
     "metadata": {},
     "output_type": "execute_result"
    }
   ],
   "execution_count": 111
  },
  {
   "metadata": {
    "ExecuteTime": {
     "end_time": "2024-06-28T12:11:01.122925Z",
     "start_time": "2024-06-28T12:11:01.065305Z"
    }
   },
   "cell_type": "code",
   "source": [
    "loss_dev = cal_loss(X_DEV, torch.arange(X_DEV.shape[0]), Y_DEV)\n",
    "print(f\"dev loss: {loss_dev}\")"
   ],
   "id": "a5902da04fa1a02b",
   "outputs": [
    {
     "name": "stdout",
     "output_type": "stream",
     "text": [
      "dev loss: 2.3863847255706787\n"
     ]
    }
   ],
   "execution_count": 112
  },
  {
   "metadata": {
    "ExecuteTime": {
     "end_time": "2024-06-28T12:11:05.200355Z",
     "start_time": "2024-06-28T12:11:05.150140Z"
    }
   },
   "cell_type": "code",
   "source": [
    "X_TEST, Y_TEST = build_inputs_outputs(words_test)\n",
    "X_TEST.shape, Y_TEST.shape"
   ],
   "id": "6219d2fc40d62703",
   "outputs": [
    {
     "data": {
      "text/plain": [
       "(torch.Size([22735, 3]), torch.Size([22735]))"
      ]
     },
     "execution_count": 113,
     "metadata": {},
     "output_type": "execute_result"
    }
   ],
   "execution_count": 113
  },
  {
   "metadata": {
    "ExecuteTime": {
     "end_time": "2024-06-28T12:11:09.722200Z",
     "start_time": "2024-06-28T12:11:09.629258Z"
    }
   },
   "cell_type": "code",
   "source": [
    "loss_test = cal_loss(X_TEST, torch.arange(X_TEST.shape[0]), Y_TEST)\n",
    "print(f\"test loss: {loss_test}\")"
   ],
   "id": "7e8984ca34fa4a1",
   "outputs": [
    {
     "name": "stdout",
     "output_type": "stream",
     "text": [
      "test loss: 2.423779010772705\n"
     ]
    }
   ],
   "execution_count": 114
  },
  {
   "metadata": {
    "ExecuteTime": {
     "end_time": "2024-06-28T12:12:21.832260Z",
     "start_time": "2024-06-28T12:12:21.826038Z"
    }
   },
   "cell_type": "code",
   "source": [
    "def generate(g):\n",
    "    input_ids = [0, 0, 0]\n",
    "    outputs = []\n",
    "    idx = None\n",
    "    while idx != 0:\n",
    "        emb = C[torch.tensor(input_ids)]\n",
    "        h = torch.tanh(emb.view(1, 30) @ W1 + b1)\n",
    "        logits = h @ W2 + b2\n",
    "        probs = F.softmax(logits, dim=1)\n",
    "        idx = torch.multinomial(probs, num_samples=1, generator=g).item()\n",
    "        outputs.append(idx)\n",
    "        input_ids = input_ids[1:] + [idx]\n",
    "    outputs = [itos[output] for output in outputs]\n",
    "    return ''.join(outputs)"
   ],
   "id": "22261d90ae854b22",
   "outputs": [],
   "execution_count": 117
  },
  {
   "metadata": {
    "ExecuteTime": {
     "end_time": "2024-06-28T12:12:37.104469Z",
     "start_time": "2024-06-28T12:12:37.086069Z"
    }
   },
   "cell_type": "code",
   "source": [
    "g_gen = torch.Generator().manual_seed(2147483647)\n",
    "for i in range(10):\n",
    "    print(generate(g))"
   ],
   "id": "33f5f8e42b6d3575",
   "outputs": [
    {
     "name": "stdout",
     "output_type": "stream",
     "text": [
      "maden.\n",
      "avim.\n",
      "aymorlie.\n",
      "aio.\n",
      "karle.\n",
      "joun.\n",
      "selionah.\n",
      "lyiah.\n",
      "tye.\n",
      "malannahla.\n"
     ]
    }
   ],
   "execution_count": 119
  },
  {
   "metadata": {},
   "cell_type": "code",
   "outputs": [],
   "execution_count": null,
   "source": "",
   "id": "a1eb680197ae6ba7"
  }
 ],
 "metadata": {
  "kernelspec": {
   "display_name": "Python 3",
   "language": "python",
   "name": "python3"
  },
  "language_info": {
   "codemirror_mode": {
    "name": "ipython",
    "version": 2
   },
   "file_extension": ".py",
   "mimetype": "text/x-python",
   "name": "python",
   "nbconvert_exporter": "python",
   "pygments_lexer": "ipython2",
   "version": "2.7.6"
  }
 },
 "nbformat": 4,
 "nbformat_minor": 5
}
